{
  "nbformat": 4,
  "nbformat_minor": 0,
  "metadata": {
    "colab": {
      "provenance": []
    },
    "kernelspec": {
      "name": "python3",
      "display_name": "Python 3"
    },
    "language_info": {
      "name": "python"
    }
  },
  "cells": [
    {
      "cell_type": "code",
      "source": [
        "pip install scikit-surprise"
      ],
      "metadata": {
        "colab": {
          "base_uri": "https://localhost:8080/"
        },
        "id": "gQOcCSnY5nna",
        "outputId": "74efdbca-f578-41f5-ea7b-b1187cb1441f"
      },
      "execution_count": 10,
      "outputs": [
        {
          "output_type": "stream",
          "name": "stdout",
          "text": [
            "Collecting scikit-surprise\n",
            "  Using cached scikit_surprise-1.1.4.tar.gz (154 kB)\n",
            "  Installing build dependencies ... \u001b[?25l\u001b[?25hdone\n",
            "  Getting requirements to build wheel ... \u001b[?25l\u001b[?25hdone\n",
            "  Preparing metadata (pyproject.toml) ... \u001b[?25l\u001b[?25hdone\n",
            "Requirement already satisfied: joblib>=1.2.0 in /usr/local/lib/python3.10/dist-packages (from scikit-surprise) (1.4.2)\n",
            "Requirement already satisfied: numpy>=1.19.5 in /usr/local/lib/python3.10/dist-packages (from scikit-surprise) (1.26.4)\n",
            "Requirement already satisfied: scipy>=1.6.0 in /usr/local/lib/python3.10/dist-packages (from scikit-surprise) (1.13.1)\n",
            "Building wheels for collected packages: scikit-surprise\n",
            "  Building wheel for scikit-surprise (pyproject.toml) ... \u001b[?25l\u001b[?25hdone\n",
            "  Created wheel for scikit-surprise: filename=scikit_surprise-1.1.4-cp310-cp310-linux_x86_64.whl size=2357285 sha256=4c61c63422a27beeb73b7569786c85df2514a8d364d8181978a686be4ecea8d0\n",
            "  Stored in directory: /root/.cache/pip/wheels/4b/3f/df/6acbf0a40397d9bf3ff97f582cc22fb9ce66adde75bc71fd54\n",
            "Successfully built scikit-surprise\n",
            "Installing collected packages: scikit-surprise\n",
            "Successfully installed scikit-surprise-1.1.4\n"
          ]
        }
      ]
    },
    {
      "cell_type": "code",
      "source": [
        "from google.colab import drive\n",
        "drive.mount('/content/drive')"
      ],
      "metadata": {
        "colab": {
          "base_uri": "https://localhost:8080/"
        },
        "id": "0CYW6FaBF1Qg",
        "outputId": "6769ec78-a8ba-49e9-84e6-d92a732a1f17"
      },
      "execution_count": 2,
      "outputs": [
        {
          "output_type": "stream",
          "name": "stdout",
          "text": [
            "Mounted at /content/drive\n"
          ]
        }
      ]
    },
    {
      "cell_type": "code",
      "source": [
        "import pandas as pd\n",
        "import numpy as np\n",
        "from surprise import Dataset, Reader\n",
        "from surprise.model_selection import train_test_split\n",
        "from surprise.model_selection import cross_validate\n",
        "from surprise import KNNBasic\n",
        "from surprise.prediction_algorithms.baseline_only import BaselineOnly\n",
        "from surprise import accuracy"
      ],
      "metadata": {
        "id": "q3I-NswK5q9O"
      },
      "execution_count": 58,
      "outputs": []
    },
    {
      "cell_type": "code",
      "source": [
        "# Load training and testing datasets\n",
        "train_data = pd.read_csv(\"/content/drive/MyDrive/CS 229 Group Project/Data/Final/train_data_full.csv\")  # Training data\n",
        "test_data = pd.read_csv(\"/content/drive/MyDrive/CS 229 Group Project/Data/Final/test_data_full.csv\")    # Testing data"
      ],
      "metadata": {
        "id": "ZqG-Y3Qn4xlp"
      },
      "execution_count": 59,
      "outputs": []
    },
    {
      "cell_type": "code",
      "source": [
        "reader = Reader(rating_scale=(0, 5))\n",
        "\n",
        "trainset = Dataset.load_from_df(train_data[['user_id', 'parent_asin', 'rating']], reader).build_full_trainset()\n",
        "testset = list(zip(test_data['user_id'], test_data['parent_asin'], test_data['rating']))"
      ],
      "metadata": {
        "id": "JJVH6F6S6pqn"
      },
      "execution_count": 54,
      "outputs": []
    },
    {
      "cell_type": "code",
      "source": [
        "# BaselineOnly Model (acts like a linear regression baseline)\n",
        "print(\"\\nBaselineOnly Model:\")\n",
        "baseline_model = BaselineOnly()\n",
        "baseline_model.fit(trainset)\n",
        "baseline_predictions = baseline_model.test(testset)\n",
        "baseline_rmse = accuracy.rmse(baseline_predictions)\n",
        "print(f\"BaselineOnly Model RMSE: {baseline_rmse}\")\n",
        "\n",
        "# KNNBasic Model\n",
        "print(\"\\nKNNBasic Model:\")\n",
        "sim_options = {\n",
        "    'name': 'cosine',  # Use cosine similarity\n",
        "    'user_based': True  # Use user-based collaborative filtering; set to False for item-based\n",
        "}\n",
        "knn_model = KNNBasic(sim_options=sim_options)\n",
        "knn_model.fit(trainset)\n",
        "knn_predictions = knn_model.test(testset)\n",
        "knn_rmse = accuracy.rmse(knn_predictions)\n",
        "print(f\"KNNBasic Model RMSE: {knn_rmse}\")"
      ],
      "metadata": {
        "colab": {
          "base_uri": "https://localhost:8080/"
        },
        "id": "LgSlYOmk-LNh",
        "outputId": "644cf3a2-ebed-4b9b-be9b-578c0e35e35f"
      },
      "execution_count": 60,
      "outputs": [
        {
          "output_type": "stream",
          "name": "stdout",
          "text": [
            "\n",
            "BaselineOnly Model:\n",
            "Estimating biases using als...\n",
            "RMSE: 0.9220\n",
            "BaselineOnly Model RMSE: 0.9219564503073081\n",
            "\n",
            "KNNBasic Model:\n",
            "Computing the cosine similarity matrix...\n",
            "Done computing similarity matrix.\n",
            "RMSE: 0.9219\n",
            "KNNBasic Model RMSE: 0.9219470650143125\n"
          ]
        }
      ]
    }
  ]
}